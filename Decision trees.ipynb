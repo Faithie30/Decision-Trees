{
 "cells": [
  {
   "cell_type": "markdown",
   "metadata": {},
   "source": [
    "## 1. Importing relavant packages"
   ]
  },
  {
   "cell_type": "code",
   "execution_count": null,
   "metadata": {},
   "outputs": [],
   "source": [
    "# Importing libraries\n",
    "\n",
    "import pandas as pd\n",
    "import numpy as np\n",
    "import seaborn as sns\n",
    "import matplotlib.pyplot as plt\n",
    "from sklearn.model_selection import train_test_split\n",
    "from sklearn.tree import DecisionTreeClassifier\n",
    "from sklearn import metrics\n",
    "from sklearn.metrics import accuracy_score\n",
    "from sklearn.metrics import classification_report\n",
    "from sklearn.metrics import confusion_matrix\n",
    "from sklearn.metrics import roc_curve\n",
    "from sklearn.metrics import roc_auc_score\n",
    "from sklearn.tree import export_graphviz\n",
    "from sklearn.preprocessing import MinMaxScaler\n",
    "from sklearn.preprocessing import LabelEncoder"
   ]
  },
  {
   "cell_type": "code",
   "execution_count": null,
   "metadata": {},
   "outputs": [],
   "source": [
    "# Reading in file\n",
    "df = pd.read_csv('data/agaricus-lepiota.data', header=None)\n",
    "df.head()"
   ]
  },
  {
   "cell_type": "markdown",
   "metadata": {},
   "source": [
    "## 2. EDA"
   ]
  },
  {
   "cell_type": "code",
   "execution_count": null,
   "metadata": {},
   "outputs": [],
   "source": [
    "#renaming columns \n",
    "df.rename(columns = {0:\"classes\", 1: \"cap_shape\", 2: \"cap_surface\", 3: \"cap_color\", 4: \"bruises\",\n",
    "                                5: \"odor\", 6: \"gill_attachment\", 7: \"gill_spacing\", 8: \"gill_size\",\n",
    "                                9: \"gill_color\", 10: \"stalk_shape\", 11: \"stalk_root\", 12: \"stalk_surface_above_ring\",\n",
    "                                13: \"stalk_surface_below_ring\", 14: \"stalk_color_above_ring\",15: \"stalk_color_below_ring\",\n",
    "                                16: \"veil_type\", 17: \"veil_color\", 18: \"ring_number\", 19: \"ring_type\",\n",
    "                                20: \"spore_print_color\", 21: \"population\", 22: \"habitat\"}, inplace=True)\n",
    "df.head()"
   ]
  },
  {
   "cell_type": "code",
   "execution_count": null,
   "metadata": {},
   "outputs": [],
   "source": [
    "#replacing elements in the dataframe\n",
    "\n",
    "df['classes'] = df['classes'].replace({ 'p':'poisonous', \n",
    "                                        'e':'edible'})\n",
    "df['cap_shape'] = df['cap_shape'].replace({'b':'bell',\n",
    "                                           'c':'conical',\n",
    "                                           'x':'convex',\n",
    "                                           'f':'flat',\n",
    "                                           'k':'knobbed',\n",
    "                                           's':'sunken'})\n",
    "df['cap_surface'] = df['cap_surface'].replace({'f':'fibrous',\n",
    "                                           'g':'grooves',\n",
    "                                           'y':'scaly',\n",
    "                                           's':'smooth'})\n",
    "df['cap_color'] = df['cap_color'].replace({ 'n':'brown',\n",
    "                                       'b':'buff',\n",
    "                                       'c':'cinnamon',\n",
    "                                       'g':'gray',\n",
    "                                       'o':'orange',\n",
    "                                       'p':'pink',\n",
    "                                       'e':'red',\n",
    "                                       'w':'white',\n",
    "                                       'y':'yellow'})\n",
    "df['bruises'] = df['bruises'].replace({ 't':'bruises',\n",
    "                                        'f':'no'})\n",
    "df['odor'] = df['odor'].replace({ 'a':'almond',\n",
    "                                       'l':'anise',\n",
    "                                       'c':'creosote',\n",
    "                                       'y':'fishy',\n",
    "                                       'f':'foul',\n",
    "                                       'm':'musty',\n",
    "                                       'n':'none',\n",
    "                                       'p':'pungent',\n",
    "                                       's':'spicy'})\n",
    "df['gill_attachment'] = df['gill_attachment'].replace({ 'a':'attached',\n",
    "                                       'd':'descending',\n",
    "                                       'f':'free',\n",
    "                                       'n':'notched'})\n",
    "df['gill_spacing'] = df['gill_spacing'].replace({ 'c':'close',\n",
    "                                        'w':'crowded',\n",
    "                                        'd':'distant'})\n",
    "df['gill_size'] = df['gill_size'].replace({ 'b':'broad',\n",
    "                                           'n':'narrow'})\n",
    "df['gill_color'] = df['gill_color'].replace({ 'k':'black',\n",
    "                                       'n':'brown',\n",
    "                                       'b':'buff',\n",
    "                                       'h':'chocolate',\n",
    "                                       'g':'gray',\n",
    "                                       'r':'green',\n",
    "                                       'o':'orange',\n",
    "                                       'p':'pink',\n",
    "                                       'u':'purple',\n",
    "                                       'e':'red',\n",
    "                                       'w':'white',\n",
    "                                       'y':'yellow'})\n",
    "df['stalk_shape'] = df['stalk_shape'].replace({ 'e':'enlarging',\n",
    "                                        't':'tapering'})\n",
    "df['stalk_root'] = df['stalk_root'].replace({ 'b':'bulbous',\n",
    "                                       'c':'club',\n",
    "                                       'u':'cup',\n",
    "                                       'e':'equal',\n",
    "                                       'z':'rhizomorphs',\n",
    "                                       'r':'rooted',\n",
    "                                       '?':np.nan})\n",
    "df['stalk_surface_above_ring'] = df['stalk_surface_above_ring'].replace({ 'f':'fibrous',\n",
    "                                       'y':'scaly',\n",
    "                                       'k':'silky',\n",
    "                                       's':'smooth'})\n",
    "df['stalk_surface_below_ring'] = df['stalk_surface_below_ring'].replace({ 'f':'fibrous',\n",
    "                                       'y':'scaly',\n",
    "                                       'k':'silky',\n",
    "                                       's':'smooth'})\n",
    "df['stalk_color_above_ring'] = df['stalk_color_above_ring'].replace({ 'n':'brown',\n",
    "                                       'b':'buff',\n",
    "                                       'c':'cinnamon',\n",
    "                                       'g':'gray',\n",
    "                                       'o':'orange',\n",
    "                                       'p':'pink',\n",
    "                                       'e':'red',\n",
    "                                       'w':'white',\n",
    "                                       'y':'yellow'})\n",
    "df['stalk_color_below_ring'] = df['stalk_color_below_ring'].replace({ 'n':'brown',\n",
    "                                       'b':'buff',\n",
    "                                       'c':'cinnamon',\n",
    "                                       'g':'gray',\n",
    "                                       'o':'orange',\n",
    "                                       'p':'pink',\n",
    "                                       'e':'red',\n",
    "                                       'w':'white',\n",
    "                                       'y':'yellow'})\n",
    "df['veil_type'] = df['veil_type'].replace({ 'p':'partial',\n",
    "                                        'u':'universal'})\n",
    "df['veil_color'] = df['veil_color'].replace({ 'n':'brown',\n",
    "                                       'o':'orange',\n",
    "                                       'w':'white',\n",
    "                                       'y':'yellow'})\n",
    "df['ring_number'] = df['ring_number'].replace({ 'n':'none',\n",
    "                                       'o':'one',\n",
    "                                       't':'two'})\n",
    "df['ring_type'] = df['ring_type'].replace({ 'c':'cobwebby',\n",
    "                                       'e':'evanescent',\n",
    "                                       'f':'flaring',\n",
    "                                       'l':'large',\n",
    "                                       'n':'none',\n",
    "                                       'p':'pendant',\n",
    "                                       's':'sheathing',\n",
    "                                       'z':'zone'})\n",
    "df['spore_print_color'] = df['spore_print_color'].replace({ 'k':'black',\n",
    "                                       'n':'brown',\n",
    "                                       'b':'buff',\n",
    "                                       'h':'chocolate',\n",
    "                                       'r':'green',\n",
    "                                       'o':'orange',\n",
    "                                       'u':'purple',\n",
    "                                       'w':'white',\n",
    "                                       'y':'yellow'})\n",
    "df['population'] = df['population'].replace({ 'a':'abundant',\n",
    "                                       'c':'clustered',\n",
    "                                       'n':'numerous',\n",
    "                                       's':'scattered',\n",
    "                                       'v':'several',\n",
    "                                       'y':'solitary'})\n",
    "df['habitat'] = df['habitat'].replace({ 'g':'grasses',\n",
    "                                       'l':'leaves',\n",
    "                                       'm':'meadows',\n",
    "                                       'p':'paths',\n",
    "                                       'u':'urban',\n",
    "                                       'w':'waste',\n",
    "                                       'd':'woods'})\n",
    "df.head()"
   ]
  },
  {
   "cell_type": "code",
   "execution_count": null,
   "metadata": {},
   "outputs": [],
   "source": [
    "##Cleaning up dataframe\n",
    "\n",
    "#Looking into our data\n",
    "df.info\n",
    "\n",
    "#Repalcing all \"?\" with \"np.nan\"\n",
    "df=df.replace(\"?\", np.nan)\n",
    "\n",
    "#Replacing all nan values with mean of column\n",
    "for col in df:\n",
    "    if df[col].dtype == 'object':\n",
    "        df = df.fillna(df[col].value_counts().index[0])\n",
    "        \n",
    "df.isnull().sum()\n"
   ]
  },
  {
   "cell_type": "markdown",
   "metadata": {},
   "source": [
    "## 3. Analysis\n",
    "### 3.1 Basic descriptives"
   ]
  },
  {
   "cell_type": "code",
   "execution_count": null,
   "metadata": {},
   "outputs": [],
   "source": [
    "#Label encoding\n",
    "label = LabelEncoder()\n",
    "for col in df.columns:\n",
    "    df[col]=label.fit_transform(df[col])"
   ]
  },
  {
   "cell_type": "code",
   "execution_count": null,
   "metadata": {},
   "outputs": [],
   "source": [
    "#Description of dataframe\n",
    "df.describe()\n",
    "\n",
    "#prevalance of positive mushrooms\n",
    "df['classes'].value_counts()"
   ]
  },
  {
   "cell_type": "markdown",
   "metadata": {},
   "source": [
    "### 3.2 Correlation"
   ]
  },
  {
   "cell_type": "code",
   "execution_count": null,
   "metadata": {},
   "outputs": [],
   "source": [
    "df.corr() "
   ]
  },
  {
   "cell_type": "markdown",
   "metadata": {},
   "source": [
    "### 3.2  Splitting dataset"
   ]
  },
  {
   "cell_type": "code",
   "execution_count": null,
   "metadata": {},
   "outputs": [],
   "source": [
    "#initiating X and Y variables\n",
    "X = df[df.columns[1:]]\n",
    "y = df.classes\n",
    "\n",
    "#creating dummy variables\n",
    "x_dum = pd.get_dummies(X)\n",
    "y_dum = df['classes']\n",
    "\n",
    "#spliting data into test and train\n",
    "X_train, X_test, y_train, y_test = train_test_split(x_dum, y_dum, test_size=0.20, stratify=y_dum, random_state=42)\n",
    "\n",
    "#looking at the data shape of each dataframes\n",
    "print(y_train.shape, X_train.shape)\n",
    "print(y_test.shape, X_test.shape)"
   ]
  },
  {
   "cell_type": "markdown",
   "metadata": {},
   "source": [
    "### 3.3 Rescaling dataframes"
   ]
  },
  {
   "cell_type": "code",
   "execution_count": null,
   "metadata": {},
   "outputs": [],
   "source": [
    "#rescaling the x_train and x_test\n",
    "X_train= MinMaxScaler().fit_transform(X_train)\n",
    "X_test = MinMaxScaler().fit_transform(X_test)"
   ]
  },
  {
   "cell_type": "markdown",
   "metadata": {},
   "source": [
    "### 3.4 Launch decision tree classifier"
   ]
  },
  {
   "cell_type": "code",
   "execution_count": null,
   "metadata": {},
   "outputs": [],
   "source": [
    "#fitting x and y training sets\n",
    "dtc = DecisionTreeClassifier()\n",
    "dtc = dtc.fit(X_train, y_train)\n",
    "y_pred_test = dtc.predict(X_test)\n",
    "y_pred_train = dtc.predict(X_train)"
   ]
  },
  {
   "cell_type": "markdown",
   "metadata": {},
   "source": [
    "### 3.5 initializing classification report"
   ]
  },
  {
   "cell_type": "code",
   "execution_count": null,
   "metadata": {},
   "outputs": [],
   "source": [
    "print('Decision Tree classification report:')\n",
    "print('\\n')\n",
    "print('Test data')\n",
    "print(classification_report(y_test, y_pred_test))           \n",
    "print('\\n')\n",
    "print('Train data')\n",
    "print(classification_report(y_train, y_pred_train))"
   ]
  },
  {
   "cell_type": "markdown",
   "metadata": {},
   "source": [
    "### 3.6 Confusion matrix"
   ]
  },
  {
   "cell_type": "code",
   "execution_count": null,
   "metadata": {},
   "outputs": [],
   "source": [
    "print('Test data')\n",
    "print(confusion_matrix(y_test, y_pred_test))\n",
    "print('\\n')\n",
    "print('Train data')\n",
    "print(confusion_matrix(y_train, y_pred_train))"
   ]
  },
  {
   "cell_type": "markdown",
   "metadata": {},
   "source": [
    "###  3.7 ROC Curve"
   ]
  },
  {
   "cell_type": "code",
   "execution_count": null,
   "metadata": {},
   "outputs": [],
   "source": [
    "roc_score = roc_auc_score(y_test, y_pred_test)\n",
    "fpr, tpr, threshold_log = roc_curve(y_test, y_pred_test)\n",
    "\n",
    "plt.plot(fpr, tpr, color='orange', label='ROC')\n",
    "plt.plot([0, 1], [0, 1], color='darkblue', linestyle='--')\n",
    "plt.xlabel('False Positive Rate')\n",
    "plt.ylabel('True Positive Rate')\n",
    "plt.title('Receiver Operating Characteristic Curve')\n",
    "plt.legend()\n",
    "plt.show()"
   ]
  }
 ],
 "metadata": {
  "kernelspec": {
   "display_name": "Python 3",
   "language": "python",
   "name": "python3"
  },
  "language_info": {
   "codemirror_mode": {
    "name": "ipython",
    "version": 3
   },
   "file_extension": ".py",
   "mimetype": "text/x-python",
   "name": "python",
   "nbconvert_exporter": "python",
   "pygments_lexer": "ipython3",
   "version": "3.7.3"
  }
 },
 "nbformat": 4,
 "nbformat_minor": 4
}
